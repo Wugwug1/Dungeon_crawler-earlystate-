{
 "cells": [
  {
   "cell_type": "code",
   "execution_count": 1,
   "id": "a12e861e-2121-4cbd-8e53-142c9322d816",
   "metadata": {},
   "outputs": [],
   "source": [
    "#This one is really just to figue out things (Missing mechanics: Classchoice, Dodgemechanic)"
   ]
  },
  {
   "cell_type": "code",
   "execution_count": 8,
   "id": "c7a7a0b5-a742-4a29-a840-43526c8309fd",
   "metadata": {},
   "outputs": [
    {
     "name": "stdout",
     "output_type": "stream",
     "text": [
      "🧙 Welcome to Wugs Game!\n"
     ]
    },
    {
     "name": "stdin",
     "output_type": "stream",
     "text": [
      "Enter your name:  aaaaaaaaaaaa\n"
     ]
    },
    {
     "name": "stdout",
     "output_type": "stream",
     "text": [
      "\n",
      "Choose your class:\n",
      "1. Mage 🧙 (Fire magic)\n",
      "2. Warrior 🗡️ (Strong and durable)\n",
      "3. Archer 🏹 (Fast and precise)\n"
     ]
    },
    {
     "name": "stdin",
     "output_type": "stream",
     "text": [
      "Enter 1, 2 or 3:  2\n"
     ]
    },
    {
     "name": "stdout",
     "output_type": "stream",
     "text": [
      "\n",
      "🌟 Welcome, Aaaaaaaaaaaa the Warrior! Let the battle begin!\n",
      "\n",
      "🔁 --- ROUND 1 --- 🔁\n",
      "⚔️ Enemy HP: 130 | 🧙 Aaaaaaaaaaaa HP: 120 | Potions: 2\n"
     ]
    },
    {
     "name": "stdin",
     "output_type": "stream",
     "text": [
      "Choose action - (a)ttack, (r)isky attack, (h)eal:  a\n"
     ]
    },
    {
     "name": "stdout",
     "output_type": "stream",
     "text": [
      "🗡️ Aaaaaaaaaaaa slashes with sword and deals 16 damage!\n",
      "💢 Enemy now has 114 HP left!\n",
      "👹 The enemy attacks and deals 23 damage!\n",
      "\n",
      "🔁 --- ROUND 2 --- 🔁\n",
      "⚔️ Enemy HP: 114 | 🧙 Aaaaaaaaaaaa HP: 97 | Potions: 2\n"
     ]
    },
    {
     "name": "stdin",
     "output_type": "stream",
     "text": [
      "Choose action - (a)ttack, (r)isky attack, (h)eal:  r\n"
     ]
    },
    {
     "name": "stdout",
     "output_type": "stream",
     "text": [
      "💪 RISKY BERSERK HIT lands for 57 damage!\n",
      "💢 Enemy now has 57 HP left!\n",
      "👹 The enemy attacks and deals 14 damage!\n",
      "\n",
      "🔁 --- ROUND 3 --- 🔁\n",
      "⚔️ Enemy HP: 57 | 🧙 Aaaaaaaaaaaa HP: 83 | Potions: 2\n"
     ]
    },
    {
     "name": "stdin",
     "output_type": "stream",
     "text": [
      "Choose action - (a)ttack, (r)isky attack, (h)eal:  r\n"
     ]
    },
    {
     "name": "stdout",
     "output_type": "stream",
     "text": [
      "💨 Your risky attack missed!\n",
      "💢 Enemy now has 57 HP left!\n",
      "👹 The enemy attacks and deals 23 damage!\n",
      "\n",
      "🔁 --- ROUND 4 --- 🔁\n",
      "⚔️ Enemy HP: 57 | 🧙 Aaaaaaaaaaaa HP: 60 | Potions: 2\n"
     ]
    },
    {
     "name": "stdin",
     "output_type": "stream",
     "text": [
      "Choose action - (a)ttack, (r)isky attack, (h)eal:  r\n"
     ]
    },
    {
     "name": "stdout",
     "output_type": "stream",
     "text": [
      "💪 RISKY BERSERK HIT lands for 54 damage!\n",
      "💢 Enemy now has 3 HP left!\n",
      "👹 The enemy attacks and deals 14 damage!\n",
      "\n",
      "🔁 --- ROUND 5 --- 🔁\n",
      "⚔️ Enemy HP: 3 | 🧙 Aaaaaaaaaaaa HP: 46 | Potions: 2\n"
     ]
    },
    {
     "name": "stdin",
     "output_type": "stream",
     "text": [
      "Choose action - (a)ttack, (r)isky attack, (h)eal:  r\n"
     ]
    },
    {
     "name": "stdout",
     "output_type": "stream",
     "text": [
      "💪 RISKY BERSERK HIT lands for 60 damage!\n",
      "💢 Enemy now has 0 HP left!\n",
      "🏆 You defeated the enemy! CONGRATULATIONS!\n"
     ]
    }
   ],
   "source": [
    "import random\n",
    "\n",
    "playing = True\n",
    "\n",
    "# 🔹 Basisklasse\n",
    "class Character:\n",
    "    def __init__(self, name, max_hp):\n",
    "        self.name = name\n",
    "        self.max_hp = max_hp\n",
    "        self.current_hp = max_hp\n",
    "        self.potions = 2\n",
    "\n",
    "    def take_damage(self, dmg):\n",
    "        self.current_hp -= dmg\n",
    "        if self.current_hp < 0:\n",
    "            self.current_hp = 0\n",
    "\n",
    "    def heal(self):\n",
    "        if self.potions > 0:\n",
    "            amount = random.randint(20, 40)\n",
    "            self.current_hp += amount\n",
    "            if self.current_hp > self.max_hp:\n",
    "                self.current_hp = self.max_hp\n",
    "            self.potions -= 1\n",
    "            print(f\"🧪 You used a potion and healed {amount} HP! You now have {self.current_hp} HP. Potions left: {self.potions}\")\n",
    "        else:\n",
    "            print(\"❌ You have no potions left!\")\n",
    "\n",
    "# 🔹 Magierklasse\n",
    "class Mage(Character):\n",
    "    def __init__(self, name):\n",
    "        super().__init__(name, 100)\n",
    "        self.max_fireball = 40\n",
    "\n",
    "    def attack(self):\n",
    "        damage = random.randint(5, self.max_fireball)\n",
    "        print(f\"🔥 {self.name} casts Fireball and deals {damage} damage!\")\n",
    "        return damage\n",
    "\n",
    "    def risky_attack(self):\n",
    "        if random.random() < 0.5:\n",
    "            damage = random.randint(40, 60)\n",
    "            print(f\"💥 RISKY FIREBLAST hits! Massive {damage} damage!\")\n",
    "            return damage\n",
    "        else:\n",
    "            print(\"💨 Your risky Fireblast missed!\")\n",
    "            return 0\n",
    "\n",
    "# 🔹 Kriegerklasse\n",
    "class Warrior(Character):\n",
    "    def __init__(self, name):\n",
    "        super().__init__(name, 120)\n",
    "        self.max_slash = 30\n",
    "\n",
    "    def attack(self):\n",
    "        damage = random.randint(10, self.max_slash)\n",
    "        print(f\"🗡️ {self.name} slashes with sword and deals {damage} damage!\")\n",
    "        return damage\n",
    "\n",
    "    def risky_attack(self):\n",
    "        if random.random() < 0.4:\n",
    "            damage = random.randint(50, 70)\n",
    "            print(f\"💪 RISKY BERSERK HIT lands for {damage} damage!\")\n",
    "            return damage\n",
    "        else:\n",
    "            print(\"💨 Your risky attack missed!\")\n",
    "            return 0\n",
    "\n",
    "# 🔹 Bogenschütze\n",
    "class Archer(Character):\n",
    "    def __init__(self, name):\n",
    "        super().__init__(name, 90)\n",
    "        self.max_arrow = 25\n",
    "\n",
    "    def attack(self):\n",
    "        damage = random.randint(10, self.max_arrow)\n",
    "        print(f\"🏹 {self.name} shoots an arrow and deals {damage} damage!\")\n",
    "        return damage\n",
    "\n",
    "    def risky_attack(self):\n",
    "        if random.random() < 0.6:\n",
    "            damage = random.randint(30, 55)\n",
    "            print(f\"🎯 RISKY HEADSHOT! You deal {damage} damage!\")\n",
    "            return damage\n",
    "        else:\n",
    "            print(\"💨 Your risky arrow missed!\")\n",
    "            return 0\n",
    "\n",
    "# 🔹 Gegner\n",
    "class Enemy1:\n",
    "    def __init__(self):\n",
    "        self.max_hp = 130\n",
    "        self.current_hp = 130\n",
    "\n",
    "    def attack(self):\n",
    "        damage = random.randint(10, 25)\n",
    "        print(f\"👹 The enemy attacks and deals {damage} damage!\")\n",
    "        return damage\n",
    "\n",
    "    def take_damage(self, dmg):\n",
    "        self.current_hp -= dmg\n",
    "        if self.current_hp < 0:\n",
    "            self.current_hp = 0\n",
    "        print(f\"💢 Enemy now has {self.current_hp} HP left!\")\n",
    "\n",
    "    def is_dead(self):\n",
    "        return self.current_hp <= 0\n",
    "\n",
    "# 🔹 Kampf\n",
    "def attack_the_enemy(player, enemy):\n",
    "    global playing\n",
    "    round_counter = 1\n",
    "\n",
    "    while playing:\n",
    "        print(f\"\\n🔁 --- ROUND {round_counter} --- 🔁\")\n",
    "        print(f\"⚔️ Enemy HP: {enemy.current_hp} | 🧙 {player.name} HP: {player.current_hp} | Potions: {player.potions}\")\n",
    "        action = input(\"Choose action - (a)ttack, (r)isky attack, (h)eal: \").strip().lower()\n",
    "\n",
    "        if action == 'a':\n",
    "            dmg = player.attack()\n",
    "            enemy.take_damage(dmg)\n",
    "        elif action == 'r':\n",
    "            dmg = player.risky_attack()\n",
    "            enemy.take_damage(dmg)\n",
    "        elif action == 'h':\n",
    "            player.heal()\n",
    "        else:\n",
    "            print(\"❗ Invalid input. Try again.\")\n",
    "            continue\n",
    "\n",
    "        if enemy.is_dead():\n",
    "            print(\"🏆 You defeated the enemy! CONGRATULATIONS!\")\n",
    "            break\n",
    "\n",
    "        # Enemy turn\n",
    "        enemy_dmg = enemy.attack()\n",
    "        player.take_damage(enemy_dmg)\n",
    "\n",
    "        if player.current_hp <= 0:\n",
    "            print(\"☠️ You have been defeated... GAME OVER.\")\n",
    "            break\n",
    "\n",
    "        round_counter += 1\n",
    "\n",
    "# 🔹 Spielstart\n",
    "def start_game():\n",
    "    print(\"🧙 Welcome to Wugs Game!\")\n",
    "\n",
    "    while True:\n",
    "        name = input(\"Enter your name: \").strip().title()\n",
    "        if name:\n",
    "            break\n",
    "\n",
    "    print(\"\\nChoose your class:\")\n",
    "    print(\"1. Mage 🧙 (Fire magic)\")\n",
    "    print(\"2. Warrior 🗡️ (Strong and durable)\")\n",
    "    print(\"3. Archer 🏹 (Fast and precise)\")\n",
    "\n",
    "    while True:\n",
    "        choice = input(\"Enter 1, 2 or 3: \").strip()\n",
    "        if choice == '1':\n",
    "            player = Mage(name)\n",
    "            break\n",
    "        elif choice == '2':\n",
    "            player = Warrior(name)\n",
    "            break\n",
    "        elif choice == '3':\n",
    "            player = Archer(name)\n",
    "            break\n",
    "        else:\n",
    "            print(\"Invalid choice. Try again.\")\n",
    "\n",
    "    enemy = Enemy1()\n",
    "\n",
    "    print(f\"\\n🌟 Welcome, {player.name} the {player.__class__.__name__}! Let the battle begin!\")\n",
    "    attack_the_enemy(player, enemy)\n",
    "\n",
    "if __name__ == \"__main__\":\n",
    "    start_game()\n"
   ]
  },
  {
   "cell_type": "code",
   "execution_count": null,
   "id": "3ce81d96-a706-4c1f-9998-6bc1f5a63cdb",
   "metadata": {},
   "outputs": [],
   "source": []
  }
 ],
 "metadata": {
  "kernelspec": {
   "display_name": "Python 3 (ipykernel)",
   "language": "python",
   "name": "python3"
  },
  "language_info": {
   "codemirror_mode": {
    "name": "ipython",
    "version": 3
   },
   "file_extension": ".py",
   "mimetype": "text/x-python",
   "name": "python",
   "nbconvert_exporter": "python",
   "pygments_lexer": "ipython3",
   "version": "3.12.7"
  },
  "widgets": {
   "application/vnd.jupyter.widget-state+json": {
    "state": {},
    "version_major": 2,
    "version_minor": 0
   }
  }
 },
 "nbformat": 4,
 "nbformat_minor": 5
}
